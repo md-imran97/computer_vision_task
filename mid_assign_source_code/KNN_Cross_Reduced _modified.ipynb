{
 "cells": [
  {
   "cell_type": "code",
   "execution_count": 75,
   "metadata": {
    "colab": {
     "base_uri": "https://localhost:8080/"
    },
    "id": "6tBShtrdc1NJ",
    "outputId": "f249a7fa-3906-45c2-ce97-d9fa77cca857"
   },
   "outputs": [],
   "source": [
    "#from google.colab import drive\n",
    "#drive.mount('/content/drive')\n",
    "import numpy as np\n",
    "import matplotlib.pyplot as plt\n",
    "import os\n",
    "import cv2\n",
    "import random\n",
    "from random import randrange\n",
    "from numpy import linalg as LA\n",
    "import math\n",
    "from tqdm import tqdm\n",
    "import csv\n",
    "import pandas as pd"
   ]
  },
  {
   "cell_type": "code",
   "execution_count": 76,
   "metadata": {
    "colab": {
     "base_uri": "https://localhost:8080/"
    },
    "id": "-6UYYFBvQNK8",
    "outputId": "f7a53f93-fc24-463f-d9b7-95918b4b3fd3"
   },
   "outputs": [
    {
     "name": "stderr",
     "output_type": "stream",
     "text": [
      " 50%|█████████████████████████████████████▌                                     | 25000/50000 [01:32<01:32, 269.75it/s]\n"
     ]
    }
   ],
   "source": [
    "cat = ['airplane', 'automobile', 'bird', 'cat', 'deer', 'dog', 'frog', 'horse', 'ship', 'truck']  \n",
    "trainData=[]\n",
    "IMG_SIZE=32\n",
    "imgPath='C:/Users/IMRAN/Desktop/_____Com vision/CIFAR10/train'\n",
    "csvFile=pd.read_csv('C:/Users/IMRAN/Desktop/_____Com vision/CIFAR10/trainLabels.csv')\n",
    "time=1\n",
    "for img in tqdm(os.listdir(imgPath)):\n",
    "    imgName=img.split(\".\") #get the image file name\n",
    "    if(time>25000): #take only 25k img from CFAR10 for this task. for 50k image my kernel get auto shutdown after 6 hour training for no reason.\n",
    "      break;\n",
    "    index= int(imgName[0])\n",
    "    catagory=cat.index(csvFile['label'][index-1])\n",
    "    #print(img,\" \",catagory)\n",
    "    oneImage = cv2.imread( os.path.join(imgPath, img), cv2.IMREAD_GRAYSCALE ) #read image and turn into grayscale\n",
    "    img_resized = cv2.resize(oneImage, (IMG_SIZE, IMG_SIZE)) #resized image (32*32)\n",
    "    trainData.append([oneImage,catagory]) #store data [[image, catagory]] sequence\n",
    "    \n",
    "    time +=1"
   ]
  },
  {
   "cell_type": "code",
   "execution_count": 77,
   "metadata": {
    "colab": {
     "base_uri": "https://localhost:8080/"
    },
    "id": "P0gKTgx8l1QB",
    "outputId": "f260cab6-a9a6-400f-d500-e4ff9e70cc3f"
   },
   "outputs": [
    {
     "name": "stdout",
     "output_type": "stream",
     "text": [
      "25000\n"
     ]
    }
   ],
   "source": [
    "print(time-1)"
   ]
  },
  {
   "cell_type": "code",
   "execution_count": 78,
   "metadata": {
    "id": "nC8AmC4AsI9I"
   },
   "outputs": [],
   "source": [
    "randomTrainData = trainData[:]\n",
    "random.shuffle(randomTrainData) #randomaized total data set."
   ]
  },
  {
   "cell_type": "code",
   "execution_count": 79,
   "metadata": {
    "id": "cMMk-ZypuiRs"
   },
   "outputs": [],
   "source": [
    "fold_size=5000\n",
    "#create folds for cross validation\n",
    "fold1 = randomTrainData[0:5000]\n",
    "fold2 = randomTrainData[5000:10000]\n",
    "fold3 = randomTrainData[10000:15000]\n",
    "fold4 = randomTrainData[15000:20000]\n",
    "fold5 = randomTrainData[20000:25000]\n",
    "\n",
    "#prepare train set and validation set for cross validation.\n",
    "set1 = fold1 + fold2 + fold3 + fold4\n",
    "set1_validation = fold5\n",
    "\n",
    "set2 = fold1 + fold2 + fold3 + fold5\n",
    "set2_validation = fold4\n",
    "\n",
    "set3 = fold1 + fold2 + fold4 + fold5\n",
    "set3_validation = fold3\n",
    "\n",
    "set4 = fold1 + fold3 + fold4 + fold5\n",
    "set4_validation = fold2\n",
    "\n",
    "set5 = fold2 + fold3 + fold4 + fold5\n",
    "set5_validation = fold1\n",
    "\n",
    "validation=[] #all the validation set store\n",
    "train=[] #all the train set store\n",
    "\n",
    "train.append(set1)\n",
    "validation.append(set1_validation)\n",
    "\n",
    "train.append(set2)\n",
    "validation.append(set2_validation)\n",
    "\n",
    "train.append(set3)\n",
    "validation.append(set3_validation)\n",
    "\n",
    "train.append(set4)\n",
    "validation.append(set4_validation)\n",
    "\n",
    "train.append(set5)\n",
    "validation.append(set5_validation)"
   ]
  },
  {
   "cell_type": "code",
   "execution_count": 80,
   "metadata": {
    "colab": {
     "base_uri": "https://localhost:8080/",
     "height": 1000
    },
    "id": "wP97Iq8-0KtP",
    "outputId": "01b54b4d-69a6-4858-fa5a-fd8c27f29638"
   },
   "outputs": [
    {
     "name": "stderr",
     "output_type": "stream",
     "text": [
      "100%|██████████████████████████████████████████████████████████████████████████████| 5000/5000 [42:54<00:00,  1.94it/s]\n",
      "100%|██████████████████████████████████████████████████████████████████████████████| 5000/5000 [40:33<00:00,  2.06it/s]\n",
      "100%|██████████████████████████████████████████████████████████████████████████████| 5000/5000 [43:14<00:00,  1.93it/s]\n",
      "100%|██████████████████████████████████████████████████████████████████████████████| 5000/5000 [43:46<00:00,  1.90it/s]\n",
      "100%|██████████████████████████████████████████████████████████████████████████████| 5000/5000 [43:30<00:00,  1.91it/s]\n"
     ]
    }
   ],
   "source": [
    "\n",
    "K=[] #store points for every validation fold [[k0-k19]]\n",
    "for i in range(5):\n",
    "    count=[0]*20 #store success value for every k\n",
    "    for set_v in tqdm(validation[i]): \n",
    "      sumANDcatagoryANDimg=[] #store [[sumOfAllPixelValue, catagoryOfThatImage, thatImage]] this sequence.\n",
    "      for s in train[i]: #for every image of train data(combined 4 fold).\n",
    "        dis= np.abs(set_v[0] - s[0]) #manhattan distance calculate for every image of train data based on a single image of validation data\n",
    "        sumation=np.sum(dis) # sum of every pixel value (32*32) after manhattan distance calculate.\n",
    "        sANDcANDi=[sumation, s[1], s[0]] # create [[sumOfAllPixelValue, catagoryOfThatImage, thatImage]] sequence.\n",
    "        sumANDcatagoryANDimg.append(sANDcANDi) # store every item(sANDcANDi).\n",
    "\n",
    "      sumANDcatagoryANDimg.sort(key = lambda x: x[0]) #sorted list based on distance found by manhattan distance.\n",
    "\n",
    "      c=[0]*10 #store catagory appears.\n",
    "      sd=[0]*10 #store sum of image distance\n",
    "      for j in range(20): #for k 0-19 value.\n",
    "        c[sumANDcatagoryANDimg[j][1]]+=1 #take the nerest image catatogry and store in a list catagory=index of c[] \n",
    "        sd[sumANDcatagoryANDimg[j][1]]=sd[sumANDcatagoryANDimg[j][1]]+sumANDcatagoryANDimg[j][0]\n",
    "                #store sum of every same catagory image appears in sorted 20 images\n",
    "\n",
    "        maxCatagoryFound=[] #store which catagory appears max times. multiple catagory could be appears max times. \n",
    "        max_c_value=max(c) #find maximum times apper of any catagory for every k value\n",
    "        \n",
    "        \n",
    "      #---------------- Block1 start -----------------------------   \n",
    "            #To run block1, block2 must be commented.\n",
    "            #Logic in block1 create more identical graph of the actual graph in the lecture slide.\n",
    "        for mcf in range(10):\n",
    "            if(c[mcf]==max_c_value): \n",
    "                maxCatagoryFound.append(mcf) #store catagory of maximum times appears.\n",
    "                \n",
    "        if(len(maxCatagoryFound)==1): #only one catagory appears max times.\n",
    "            if(set_v[1]==maxCatagoryFound[0]): #checking max found catagory is equal to validation image catagory.\n",
    "                count[j] +=1 #increment 1 for every matched found\n",
    "        else: #multiple catagory appears max times.\n",
    "            randValue=randrange(len(maxCatagoryFound)) #take random catagory from multiple max catagory found.\n",
    "            if(set_v[1]==maxCatagoryFound[randValue]): #checking that catagory is equal to validation image catagory.\n",
    "                count[j] +=1 #increment 1 for every matched found\n",
    "      #---------------- Block1 end ---------------------------------  \n",
    "       \n",
    "        \n",
    "      #---------------- Block2 start -------------------------------  \n",
    "#             #to run block2, block1 must be commented.\n",
    "#             #logic in block2 create a graph that is very less identical graph of the actual graph in the lecture slide.\n",
    "#         for c_index in range(10):\n",
    "#           if(c[c_index]==max_c_value):\n",
    "#             maxCatagoryFound.append(c_index) #store catagory of maximum times appears.\n",
    "#         if(len(maxCatagoryFound)==1): #only one catagory appears max times\n",
    "#           if(set_v[1]==maxCatagoryFound[0]): #checking max found catagory is equal to validation image catagory.\n",
    "#             count[j] +=1 # increment 1 for every matched found\n",
    "#         else: #multiple catagory appears max times\n",
    "#           minIndex=maxCatagoryFound[0]\n",
    "#           minIndexSumValue=sd[minIndex]\n",
    "#           for mi in range(1,len(maxCatagoryFound)): #find the lowest summation value of the catagories\n",
    "#             if(minIndexSumValue>sd[maxCatagoryFound[mi]]):\n",
    "#               minIndex=maxCatagoryFound[mi]\n",
    "#               minIndexSumValue=sd[minIndex]\n",
    "#           if(set_v[1]==minIndex): #check th lowest sum catagory matched with validation image catagory.\n",
    "#             count[j] +=1 # increment 1 for every matched found\n",
    "       #-------------- Block2 end -----------------------------------\n",
    "    \n",
    "    points=[] #store points for every validation fold [k0-k19]\n",
    "    for j in range(20):#j=0\n",
    "      points.append((count[j]/fold_size)*100) #convert the success value to success rate in 100%\n",
    "    K.append(points)\n"
   ]
  },
  {
   "cell_type": "code",
   "execution_count": 81,
   "metadata": {
    "colab": {
     "base_uri": "https://localhost:8080/"
    },
    "id": "BR-k3bZ4Ek_u",
    "outputId": "8745b9c3-471f-4a43-c00d-2859ffcc9636"
   },
   "outputs": [
    {
     "name": "stdout",
     "output_type": "stream",
     "text": [
      "[[21.4, 20.880000000000003, 21.8, 22.88, 22.96, 22.6, 23.14, 23.54, 23.68, 24.2, 23.84, 24.02, 24.02, 23.94, 24.16, 24.22, 24.48, 24.42, 24.4, 24.46], [22.42, 21.240000000000002, 22.32, 23.02, 22.919999999999998, 23.599999999999998, 24.58, 24.04, 24.72, 25.080000000000002, 24.64, 24.46, 24.84, 24.7, 24.560000000000002, 24.66, 24.4, 24.02, 24.82, 24.7], [22.0, 21.02, 21.48, 23.04, 22.439999999999998, 22.32, 22.98, 23.119999999999997, 23.119999999999997, 23.7, 23.44, 23.880000000000003, 23.74, 24.14, 24.0, 23.98, 23.64, 23.799999999999997, 23.78, 23.78], [22.720000000000002, 21.6, 21.9, 23.36, 24.060000000000002, 24.060000000000002, 24.3, 24.64, 25.040000000000003, 25.0, 24.92, 24.779999999999998, 24.54, 24.66, 24.62, 24.66, 24.740000000000002, 24.279999999999998, 24.52, 24.42], [21.82, 21.4, 22.040000000000003, 22.5, 22.919999999999998, 22.919999999999998, 22.24, 22.66, 23.24, 23.380000000000003, 23.04, 23.599999999999998, 23.419999999999998, 23.56, 23.22, 23.78, 23.82, 24.08, 23.82, 23.799999999999997]]\n"
     ]
    }
   ],
   "source": [
    "print(K)\n"
   ]
  },
  {
   "cell_type": "code",
   "execution_count": 83,
   "metadata": {
    "colab": {
     "base_uri": "https://localhost:8080/",
     "height": 334
    },
    "id": "jM7zPH9Cx7N9",
    "outputId": "f3562b34-f5e2-4118-af13-b13223edbffd"
   },
   "outputs": [
    {
     "name": "stderr",
     "output_type": "stream",
     "text": [
      "<ipython-input-83-26af309d0d16>:13: MatplotlibDeprecationWarning: Adding an axes using the same arguments as a previous axes currently reuses the earlier instance.  In a future version, a new instance will always be created and returned.  Meanwhile, this warning can be suppressed, and the future behavior ensured, by passing a unique label to each axes instance.\n",
      "  ax = plt.axes()\n"
     ]
    },
    {
     "data": {
      "image/png": "[encoded data removed]",
      "text/plain": [
       "<Figure size 432x288 with 1 Axes>"
      ]
     },
     "metadata": {
      "needs_background": "light"
     },
     "output_type": "display_data"
    }
   ],
   "source": [
    "#y = [0,5,1,5,1,6,7,8,9,10]\n",
    "x = [0,1,2,3,4,5,6,7,8,9,10,11,12,13,14,15,16,17,18,19]\n",
    "p=[0]*20\n",
    "for i in range(5):\n",
    "    for j in range(20):\n",
    "      p[j]=p[j]+K[i][j]/5 # calculate mid point for every validation fold for k0-k19\n",
    "      plt.plot(j,K[i][j],'.') #plot all point\n",
    "\n",
    "for i in range(20):\n",
    "  plt.plot(i,p[i],'o') #plot mid point\n",
    "\n",
    "plt.grid()\n",
    "ax = plt.axes()\n",
    "ax.plot(x, (p)) #draw line across mid points\n",
    "\n",
    "plt.xlabel('K')\n",
    "plt.ylabel('Accuracy in %')\n",
    "plt.title('Cross-validation for CFAR10')\n",
    "  \n",
    "plt.show()"
   ]
  }
 ],
 "metadata": {
  "colab": {
   "collapsed_sections": [],
   "name": "KNN_Cross.ipynb",
   "provenance": []
  },
  "kernelspec": {
   "display_name": "Python 3",
   "language": "python",
   "name": "python3"
  },
  "language_info": {
   "codemirror_mode": {
    "name": "ipython",
    "version": 3
   },
   "file_extension": ".py",
   "mimetype": "text/x-python",
   "name": "python",
   "nbconvert_exporter": "python",
   "pygments_lexer": "ipython3",
   "version": "3.8.7"
  }
 },
 "nbformat": 4,
 "nbformat_minor": 1
}
